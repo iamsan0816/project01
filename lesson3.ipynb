{
 "cells": [
  {
   "cell_type": "code",
   "execution_count": 1,
   "metadata": {},
   "outputs": [],
   "source": [
    "# 自定的funtion\n",
    "# 傳出dictionary\n",
    "def menu(wine, entree, dessert):\n",
    "    return {'酒':wine,'主餐':entree,'甜點':dessert}"
   ]
  },
  {
   "cell_type": "code",
   "execution_count": 4,
   "metadata": {},
   "outputs": [
    {
     "data": {
      "text/plain": [
       "{'酒': '紅酒', '主餐': '雞排', '甜點': '冰淇淋'}"
      ]
     },
     "execution_count": 4,
     "metadata": {},
     "output_type": "execute_result"
    }
   ],
   "source": [
    "# 依據參數的呼叫位置，白酒、牛排、蛋糕為引數值\n",
    "# 引數位置的呼叫\n",
    "menu('白酒','牛排','蛋糕')\n",
    "\n",
    "menu('威士忌','熔岩漢堡','冰淇淋')"
   ]
  },
  {
   "cell_type": "code",
   "execution_count": 5,
   "metadata": {},
   "outputs": [
    {
     "data": {
      "text/plain": [
       "{'酒': '威士忌', '主餐': '熔岩漢堡', '甜點': '冰淇淋'}"
      ]
     },
     "execution_count": 5,
     "metadata": {},
     "output_type": "execute_result"
    }
   ],
   "source": [
    "#引數名稱的呼叫，後面全部都要引數呼叫\n",
    "menu(wine='威士忌',entree='熔岩漢堡',dessert='冰淇淋')"
   ]
  },
  {
   "cell_type": "code",
   "execution_count": 6,
   "metadata": {},
   "outputs": [
    {
     "data": {
      "text/plain": [
       "{'酒': '威士忌', '主餐': '熔岩漢堡', '甜點': '冰淇淋'}"
      ]
     },
     "execution_count": 6,
     "metadata": {},
     "output_type": "execute_result"
    }
   ],
   "source": [
    "# 使用引數名稱呼叫，可以不依照順序\n",
    "menu(dessert='冰淇淋',wine='威士忌',entree='熔岩漢堡')"
   ]
  },
  {
   "cell_type": "code",
   "execution_count": 7,
   "metadata": {},
   "outputs": [
    {
     "data": {
      "text/plain": [
       "{'酒': '白酒', '主餐': '牛排', '甜點': '蛋糕'}"
      ]
     },
     "execution_count": 7,
     "metadata": {},
     "output_type": "execute_result"
    }
   ],
   "source": [
    "# 混和呼叫\n",
    "# 前面位置呼叫,後面名稱呼叫\n",
    "menu('白酒',dessert='蛋糕',entree='牛排')"
   ]
  }
 ],
 "metadata": {
  "kernelspec": {
   "display_name": "Python 3.10.7 ('venv01')",
   "language": "python",
   "name": "python3"
  },
  "language_info": {
   "codemirror_mode": {
    "name": "ipython",
    "version": 3
   },
   "file_extension": ".py",
   "mimetype": "text/x-python",
   "name": "python",
   "nbconvert_exporter": "python",
   "pygments_lexer": "ipython3",
   "version": "3.10.7"
  },
  "orig_nbformat": 4,
  "vscode": {
   "interpreter": {
    "hash": "70d584b9506959365acb928f1f96757e42f438193f67669a78d5d2fc9aef7e41"
   }
  }
 },
 "nbformat": 4,
 "nbformat_minor": 2
}
