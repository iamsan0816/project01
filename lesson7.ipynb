{
 "cells": [
  {
   "cell_type": "code",
   "execution_count": 44,
   "metadata": {},
   "outputs": [],
   "source": [
    "class person():\n",
    "    def __init__(self,name,age):\n",
    "        #attribute\n",
    "        self.name = name\n",
    "        self.age = age\n",
    "    \n",
    "    # 實體的meth才可以執行\n",
    "    def shout(self):\n",
    "        self.name\n",
    "        print(f'我的名字叫{self.name}')\n",
    "        print(f'我的年齡是{self.age}')\n",
    "\n"
   ]
  },
  {
   "cell_type": "code",
   "execution_count": 45,
   "metadata": {},
   "outputs": [
    {
     "name": "stdout",
     "output_type": "stream",
     "text": [
      "我的名字叫iamsan\n",
      "我的年齡是35\n"
     ]
    }
   ],
   "source": [
    "p1 = person('iamsan',35)\n",
    "#p1.name,p1.age\n",
    "p1.shout()\n",
    "\n"
   ]
  },
  {
   "cell_type": "code",
   "execution_count": 46,
   "metadata": {},
   "outputs": [
    {
     "name": "stdout",
     "output_type": "stream",
     "text": [
      "我的名字叫mamahow\n",
      "我的年齡是42\n"
     ]
    }
   ],
   "source": [
    "p2 = person('mamahow',42)\n",
    "#p2.name,p2.age\n",
    "p2.shout()\n"
   ]
  },
  {
   "cell_type": "code",
   "execution_count": 79,
   "metadata": {},
   "outputs": [],
   "source": [
    "# student繼承person父類別\n",
    "# 自訂的__init__不會繼承父類別，ｓｕｐｅｒ是父類別的init\n",
    "from tkinter import W\n",
    "\n",
    "\n",
    "class student(person):\n",
    "    def __init__(self,name,age,w=60,h=170):\n",
    "        super().__init__(name, age)\n",
    "        self.weight = W\n",
    "        self.heght = h\n",
    "    \n",
    "    # OVERWRITE 把父類別蓋掉了\n",
    "    def shout(self):\n",
    "        \n",
    "        #print(f'我的名字叫{self.name}')\n",
    "        #print(f'我的年齡是{self.age}')\n",
    "        super().shout()\n",
    "        print(f'我的身高{self.weight}')\n",
    "        print(f'我的體重{self.heght}')\n"
   ]
  },
  {
   "cell_type": "code",
   "execution_count": 77,
   "metadata": {},
   "outputs": [
    {
     "name": "stdout",
     "output_type": "stream",
     "text": [
      "我的名字叫iamsan\n",
      "我的年齡是35\n",
      "我的身高w\n",
      "我的體重183\n"
     ]
    }
   ],
   "source": [
    "\n",
    "\n",
    "stu1 = student('iamsan', 35, w=70, h=183)\n",
    "stu1.shout()\n",
    "#父類別一改，子類別一起改，就叫做物件導向"
   ]
  },
  {
   "cell_type": "code",
   "execution_count": 78,
   "metadata": {},
   "outputs": [
    {
     "name": "stdout",
     "output_type": "stream",
     "text": [
      "我的名字叫mamahow\n",
      "我的年齡是42\n",
      "我的身高w\n",
      "我的體重170\n"
     ]
    }
   ],
   "source": [
    "stu2 = student('mamahow', 42)\n",
    "stu2.shout()\n"
   ]
  },
  {
   "cell_type": "code",
   "execution_count": null,
   "metadata": {},
   "outputs": [],
   "source": []
  }
 ],
 "metadata": {
  "kernelspec": {
   "display_name": "Python 3.10.7 ('venv01')",
   "language": "python",
   "name": "python3"
  },
  "language_info": {
   "codemirror_mode": {
    "name": "ipython",
    "version": 3
   },
   "file_extension": ".py",
   "mimetype": "text/x-python",
   "name": "python",
   "nbconvert_exporter": "python",
   "pygments_lexer": "ipython3",
   "version": "3.10.7"
  },
  "orig_nbformat": 4,
  "vscode": {
   "interpreter": {
    "hash": "70d584b9506959365acb928f1f96757e42f438193f67669a78d5d2fc9aef7e41"
   }
  }
 },
 "nbformat": 4,
 "nbformat_minor": 2
}
