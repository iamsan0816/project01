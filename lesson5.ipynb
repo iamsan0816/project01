{
 "cells": [
  {
   "cell_type": "code",
   "execution_count": 1,
   "metadata": {},
   "outputs": [
    {
     "name": "stdout",
     "output_type": "stream",
     "text": [
      "(1, 2, 'a', 'b', 3.5, 9)\n"
     ]
    }
   ],
   "source": [
    "def print_args(*args):\n",
    "    print(args)\n",
    "\n",
    "print_args(1,2,'a','b',3.5,9)"
   ]
  },
  {
   "cell_type": "code",
   "execution_count": 2,
   "metadata": {},
   "outputs": [
    {
     "name": "stdout",
     "output_type": "stream",
     "text": [
      "1_2_a_b_3.5_True_"
     ]
    }
   ],
   "source": [
    "print(1,2,'a', 'b', 3.5,True,sep='_',end='_')"
   ]
  },
  {
   "cell_type": "code",
   "execution_count": 7,
   "metadata": {},
   "outputs": [
    {
     "name": "stdout",
     "output_type": "stream",
     "text": [
      "(1, 2, 'a', 'b', 3.5, 9)\n"
     ]
    }
   ],
   "source": [
    "def print_args(*args):\n",
    "    print(args)\n",
    "\n",
    "arg = [1, 2, 'a', 'b', 3.5, 9]\n",
    "print_args(*arg)\n"
   ]
  },
  {
   "cell_type": "code",
   "execution_count": 6,
   "metadata": {},
   "outputs": [
    {
     "name": "stdout",
     "output_type": "stream",
     "text": [
      "姓名 iamsan\n",
      "年齡 42\n",
      "{}\n",
      "------------------------------------\n",
      "姓名 Jenny\n",
      "年齡 20\n",
      "{'a': 1, 'b': 1, 'c': 1, 'd': 1, 'e': 1}\n",
      "------------------------------------\n"
     ]
    }
   ],
   "source": [
    "def person(name,age,**kwargs):\n",
    "    print('姓名',name)\n",
    "    print('年齡', age)\n",
    "    print(kwargs)\n",
    "    print('------------------------------------')\n",
    "person('iamsan',42)\n",
    "dict = {'a': 1, 'b': 1, 'c': 1, 'd': 1, 'e': 1, }\n",
    "person('Jenny',20,**dict)\n"
   ]
  }
 ],
 "metadata": {
  "kernelspec": {
   "display_name": "Python 3.10.7 ('venv01')",
   "language": "python",
   "name": "python3"
  },
  "language_info": {
   "codemirror_mode": {
    "name": "ipython",
    "version": 3
   },
   "file_extension": ".py",
   "mimetype": "text/x-python",
   "name": "python",
   "nbconvert_exporter": "python",
   "pygments_lexer": "ipython3",
   "version": "3.10.7"
  },
  "orig_nbformat": 4,
  "vscode": {
   "interpreter": {
    "hash": "70d584b9506959365acb928f1f96757e42f438193f67669a78d5d2fc9aef7e41"
   }
  }
 },
 "nbformat": 4,
 "nbformat_minor": 2
}
